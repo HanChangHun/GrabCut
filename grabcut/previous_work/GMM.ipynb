{
 "cells": [
  {
   "cell_type": "code",
   "execution_count": 80,
   "metadata": {},
   "outputs": [],
   "source": [
    "import numpy as np\n",
    "import matplotlib.pyplot as plt\n",
    "import cv2\n",
    "from sklearn.cluster import KMeans\n",
    "import scipy\n",
    "from scipy.optimize import minimize\n",
    "import networkx as nx"
   ]
  },
  {
   "cell_type": "code",
   "execution_count": 2,
   "metadata": {},
   "outputs": [],
   "source": [
    "def show(img):\n",
    "    cv2.imshow(\"title\",img)\n",
    "    cv2.waitKey(0)\n",
    "    cv2.destroyAllWindows()"
   ]
  },
  {
   "cell_type": "code",
   "execution_count": 3,
   "metadata": {},
   "outputs": [],
   "source": [
    "class Gaussian:\n",
    "    def __init__(self, mean=np.zeros((3,1)), sigma=np.eye(3)):\n",
    "        self.mean = np.array(mean)\n",
    "        self.sigma = np.array(sigma)\n",
    "\n",
    "    def compute_probability(self, x):\n",
    "        return scipy.stats.multivariate_normal.pdf(np.array(x),mean=self.mean,cov=self.sigma)\n",
    "\n",
    "    def update_parameters(self, data):\n",
    "        self.mean = np.mean(data, axis=0)\n",
    "        self.sigma = np.cov(data, rowvar=0)\n",
    "        \n",
    "    def set_parameter(self,mean,sigma):\n",
    "        self.mean = np.array(mean)\n",
    "        self.sigma = np.array(sigma)"
   ]
  },
  {
   "cell_type": "code",
   "execution_count": 4,
   "metadata": {},
   "outputs": [],
   "source": [
    "class GMM:\n",
    "    def __init__(self, K):\n",
    "        self.K = K\n",
    "        self.gaussians = [Gaussian() for _ in range(self.K)]\n",
    "        self.weights = np.array([1.0/K]*K)\n",
    "\n",
    "    def initialize_gmm(self, X):\n",
    "        clusterer = KMeans(n_clusters=self.K, max_iter=10, random_state=None)\n",
    "        clusters = clusterer.fit_predict(X)\n",
    "\n",
    "        num_pixels = float(X.shape[0])\n",
    "        \n",
    "        for i, gaussian in enumerate(self.gaussians):\n",
    "            gaussian.update_parameters(X[clusters==i])\n",
    "            self.weights[i] = np.sum(clusters==i)/num_pixels\n",
    "            \n",
    "        return clusters\n",
    "\n",
    "    def get_component(self, x):\n",
    "        components = np.zeros((x.shape[0], len(self.gaussians)))\n",
    "\n",
    "        for i,g in enumerate(self.gaussians):\n",
    "            components[:, i] = self.weights[i]*g.compute_probability(x)\n",
    "    \n",
    "        return np.argmax(components, axis=1)\n",
    "\n",
    "    def compute_probability(self, x):\n",
    "        return np.dot(self.weights, [g.compute_probability(x) for g in self.gaussians])\n",
    "    \n",
    "    def update_gmm(self, X, means, sigmas, weight):\n",
    "        num_pixels = X.shape[0]\n",
    "        \n",
    "        for i,gaussian in enumerate(self.gaussians):\n",
    "            gaussian.set_parameter(means[i],sigmas[i])\n",
    "            \n",
    "#         temp1 = np.zeros((num_pixels,5))\n",
    "#         temp2 = np.zeros((num_pixels))\n",
    "#         temp_weight = np.zeros(5)\n",
    "#         for i in range(5):\n",
    "#             temp1[:,i] = FG_GMM.gaussians[i].compute_probability(X)\n",
    "#         for i in range(num_pixels):\n",
    "#             temp2[i] = np.argmax(temp1[i])\n",
    "#         for i in range(5):\n",
    "#             temp_weight[i] = np.sum(temp2==i) / num_pixels\n",
    "\n",
    "        self.weights = weight"
   ]
  },
  {
   "cell_type": "code",
   "execution_count": 59,
   "metadata": {},
   "outputs": [],
   "source": [
    "img = cv2.imread(\"image1.jpg\")\n",
    "\n",
    "xmin, ymin, xmax, ymax = 130,40,500,440\n",
    "height, width, _ = img.shape\n",
    "alpha = np.zeros((height, width), dtype=np.int8)\n",
    "\n",
    "for h in range(height):\n",
    "    for w in range(width):\n",
    "        if (w >= xmin) and (w <= xmax) and (h >= ymin) and (h <= ymax):\n",
    "            alpha[h,w] = 1"
   ]
  },
  {
   "cell_type": "code",
   "execution_count": 81,
   "metadata": {},
   "outputs": [],
   "source": [
    "img12312 = cv2.imread(\"image1.jpg\",0)\n",
    "mask = np.full_like(img12312,1.0,dtype=np.float32)\n",
    "mask[ymin:ymax,xmin:xmax] = 0\n",
    "\n",
    "show(mask)"
   ]
  },
  {
   "cell_type": "code",
   "execution_count": 61,
   "metadata": {},
   "outputs": [],
   "source": [
    "fore_ground = img[alpha == 1]\n",
    "back_ground = img[alpha == 0]\n",
    "\n",
    "FG_GMM = GMM(5)\n",
    "BG_GMM = GMM(5)"
   ]
  },
  {
   "cell_type": "code",
   "execution_count": 62,
   "metadata": {},
   "outputs": [],
   "source": [
    "FG_cluster = FG_GMM.initialize_gmm(fore_ground)\n",
    "BG_cluster = BG_GMM.initialize_gmm(back_ground)"
   ]
  },
  {
   "cell_type": "code",
   "execution_count": 63,
   "metadata": {},
   "outputs": [],
   "source": [
    "pixels = img.reshape((img.shape[0]*img.shape[1], img.shape[2]))"
   ]
  },
  {
   "cell_type": "code",
   "execution_count": 64,
   "metadata": {},
   "outputs": [],
   "source": [
    "f_component_map = (FG_GMM.get_component(pixels).reshape((img.shape[0],img.shape[1])) ) *0.25\n",
    "b_component_map = (BG_GMM.get_component(pixels).reshape((img.shape[0],img.shape[1])) ) *0.25"
   ]
  },
  {
   "cell_type": "code",
   "execution_count": 65,
   "metadata": {},
   "outputs": [],
   "source": [
    "h1, w1 = f_component_map.shape[:2]\n",
    "h2, w2 = b_component_map.shape[:2]\n",
    "vis = np.zeros((max(h1, h2), w1+w2), np.float32)\n",
    "vis[:h1, :w1] = f_component_map\n",
    "vis[:h2, w1:w1+w2] = b_component_map\n",
    "vis = cv2.cvtColor(vis, cv2.COLOR_GRAY2BGR)\n",
    "\n",
    "show(vis)"
   ]
  },
  {
   "cell_type": "code",
   "execution_count": 66,
   "metadata": {},
   "outputs": [],
   "source": [
    "k = np.ones((img.shape[0],img.shape[1]), dtype=np.float32)*-1\n",
    "k[alpha==1] = f_component_map[alpha==1]\n",
    "k[alpha==0] = b_component_map[alpha==0]\n",
    "show(k)"
   ]
  },
  {
   "cell_type": "markdown",
   "metadata": {},
   "source": [
    "### --------------------------------GMM 끝--------------------------------------------\n",
    "### --------------------------------energy 시작--------------------------------------------"
   ]
  },
  {
   "cell_type": "code",
   "execution_count": 13,
   "metadata": {},
   "outputs": [],
   "source": [
    "def cofactor_matrix(matrix):\n",
    "    return np.linalg.inv(matrix).T * np.linalg.det(matrix)\n",
    "\n",
    "def weight_plus(w_list,w):\n",
    "    w_list.append(w)\n",
    "    \n",
    "def a_plus(a):\n",
    "    a.append(True)"
   ]
  },
  {
   "cell_type": "code",
   "execution_count": 79,
   "metadata": {},
   "outputs": [
    {
     "data": {
      "text/plain": [
       "array([[[167.81357172, 186.49947176, 201.98939456]],\n",
       "\n",
       "       [[167.81357172, 186.49947176, 201.98939456]],\n",
       "\n",
       "       [[167.81357172, 186.49947176, 201.98939456]],\n",
       "\n",
       "       ...,\n",
       "\n",
       "       [[110.5823832 , 141.98528936, 152.06639571]],\n",
       "\n",
       "       [[110.5823832 , 141.98528936, 152.06639571]],\n",
       "\n",
       "       [[110.5823832 , 141.98528936, 152.06639571]]])"
      ]
     },
     "execution_count": 79,
     "metadata": {},
     "output_type": "execute_result"
    }
   ],
   "source": [
    "mean_list[f_comp_map]"
   ]
  },
  {
   "cell_type": "code",
   "execution_count": 17,
   "metadata": {},
   "outputs": [],
   "source": [
    "def data_term_v2(x0,img,k):\n",
    "    weight_list = np.reshape(x0[:5],(5))\n",
    "    mean_list = np.reshape(x0[5:20],(5,3))\n",
    "    sigma_list = np.reshape(x0[20:],(5,3,3))\n",
    "    \n",
    "    pixels = img.reshape((img.shape[0]*img.shape[1], img.shape[2]))\n",
    "    \n",
    "    pi_base = weight_list\n",
    "    pi = pi_base[k].reshape(pixels.shape[0])\n",
    "    \n",
    "    dets_base = np.array([np.linalg.det(sigma_list[i]) for i in range(5)])\n",
    "    dets = dets_base[k].reshape(pixels.shape[0])\n",
    "\n",
    "    means_base = np.array([mean_list[i] for i in range(5)])\n",
    "    means = np.swapaxes(means_base[k], 1, 2)\n",
    "    means = means.reshape((means.shape[0:2]))\n",
    "\n",
    "    cov_base = np.array([np.linalg.inv(sigma_list[i]) for i in range(5)])\n",
    "    cov = np.swapaxes(cov_base[k], 1, 3)\n",
    "    cov = cov.reshape((cov.shape[0:3]))\n",
    "\n",
    "    distances = []\n",
    "    residual = pixels - means\n",
    "    for i in range(residual.shape[0]):\n",
    "        distance = scipy.spatial.distance.mahalanobis(residual[i], [0,0,0], cov[i])\n",
    "        distances.append(distance)\n",
    "        \n",
    "    maha_dist = np.array(distances)\n",
    "    \n",
    "    print((-np.log(pi) + 0.5 * np.log(dets) + 0.5 * maha_dist).sum())\n",
    "    return (-np.log(pi + 1e-7) + 0.5 * np.log(dets + 1e-7) + 0.5 * maha_dist).sum()"
   ]
  },
  {
   "cell_type": "code",
   "execution_count": 67,
   "metadata": {},
   "outputs": [],
   "source": [
    "def data_term_v1(x0,img,gmm,a,www):\n",
    "    a_plus(a)\n",
    "    a = len(a)\n",
    "    weight_list = np.reshape(x0[:5],(5))\n",
    "    mean_list = np.reshape(x0[5:20],(5,3))\n",
    "    sigma_list = np.reshape(x0[20:],(5,3,3))\n",
    "    weight_plus(www,x0)\n",
    "    pixels = img.reshape((img.shape[0]*img.shape[1], img.shape[2]))\n",
    "    k = gmm.get_component(pixels).reshape((pixels.shape[0], 1))\n",
    "    \n",
    "    gmm.update_gmm(img,mean_list,sigma_list,weight_list)\n",
    "    if a % 10 == 0 :\n",
    "        cv2.imwrite(\"tmp4/tmp{}.jpg\".format((int(a/10))),(gmm.get_component(pixels).reshape((img.shape[0],img.shape[1])))*63.75)\n",
    "        print(\"{} 번째 이미지 출력했음!\".format(int(a/10)))\n",
    "    \n",
    "    \n",
    "    pi_base = weight_list\n",
    "    pi = pi_base[k].reshape(pixels.shape[0])\n",
    "    \n",
    "    dets_base = np.array([np.linalg.det(sigma_list[i]) for i in range(5)])\n",
    "    dets = dets_base[k].reshape(pixels.shape[0])\n",
    "\n",
    "    means_base = np.array([mean_list[i] for i in range(5)])\n",
    "    means = np.swapaxes(means_base[k], 1, 2)\n",
    "    means = means.reshape((means.shape[0:2]))\n",
    "\n",
    "    cov_base = np.array([np.linalg.inv(sigma_list[i]) for i in range(5)])\n",
    "    cov = np.swapaxes(cov_base[k], 1, 3)\n",
    "    cov = cov.reshape((cov.shape[0:3]))\n",
    "\n",
    "    distances = []\n",
    "    residual = pixels - means\n",
    "    for i in range(residual.shape[0]):\n",
    "        distance = scipy.spatial.distance.mahalanobis(residual[i], [0,0,0], cov[i])\n",
    "        distances.append(distance)\n",
    "        \n",
    "    maha_dist = np.array(distances)\n",
    "    \n",
    "    print((-np.log(pi) + 0.5 * np.log(dets) + 0.5 * maha_dist).sum())\n",
    "    return (-np.log(pi) + 0.5 * np.log(dets) + 0.5 * maha_dist).sum()"
   ]
  },
  {
   "cell_type": "code",
   "execution_count": 68,
   "metadata": {},
   "outputs": [],
   "source": [
    "def jacobi(x0):\n",
    "    weight_list = np.reshape(x0[:5],(5))\n",
    "    mean_list = np.reshape(x0[5:20],(5,3))\n",
    "    sigma_list = np.reshape(x0[20:],(5,3,3))\n",
    "    inv_sig_list = np.linalg.inv(sigma_list)\n",
    "    \n",
    "    mean_der = []\n",
    "    for i in range(5):\n",
    "        mean_der.append(np.matmul(inv_sig_list[i], mean_list[i]))\n",
    "    \n",
    "    sigma_der1 = []\n",
    "    for i in range(5):\n",
    "        sigma_der1.append(1/2 * (cofactor_matrix(sigma_list[i])) * (1/np.linalg.det(sigma_list[i])))\n",
    "    sigma_der1 = np.array(sigma_der1)\n",
    "    \n",
    "    sigma_der2 = []\n",
    "    for i in range(5):\n",
    "        tmp_m = (mean_list[i][np.newaxis])\n",
    "        sigma_der2.append(1/2 * np.matmul(np.matmul(-inv_sig_list[i], np.matmul(tmp_m.T,tmp_m)), inv_sig_list[i]))\n",
    "    sigma_der2 = np.array(sigma_der2)\n",
    "    \n",
    "    weight_der = np.ndarray.flatten(-1/weight_list)\n",
    "    mean_der = np.ndarray.flatten(np.array(mean_der))\n",
    "    sigma_der = np.ndarray.flatten(sigma_der1 + sigma_der2)\n",
    "\n",
    "    total_der = np.concatenate((weight_der,mean_der,sigma_der))\n",
    "    \n",
    "    return total_der"
   ]
  },
  {
   "cell_type": "code",
   "execution_count": 69,
   "metadata": {},
   "outputs": [
    {
     "data": {
      "text/plain": [
       "array([-4.06056553e+00, -3.89442685e+00, -6.04514425e+00, -6.91347182e+00,\n",
       "       -5.35089739e+00, -1.77101984e-01,  3.37081606e-01,  6.61141087e-01,\n",
       "       -5.68249722e-01,  1.59408390e-01,  2.95375591e+00, -9.92756578e-02,\n",
       "        5.48444743e-01,  6.82549077e-01, -4.11252684e-02,  2.00453277e-02,\n",
       "        2.05082370e-01,  1.11674836e-01,  4.53653998e-01,  2.49502330e-01,\n",
       "       -1.17521176e-02,  3.13556152e-02,  5.42428474e-02,  3.13556152e-02,\n",
       "       -5.11863995e-02, -1.16415741e-01,  5.42428474e-02, -1.16415741e-01,\n",
       "       -2.08305401e-01, -1.45492855e-01,  2.19812381e-02,  8.45885000e-01,\n",
       "        2.19812381e-02,  4.23397834e-02, -2.66511908e-01,  8.45885000e-01,\n",
       "       -2.66511908e-01, -4.33260901e+00, -8.06759630e-04,  2.27581412e-02,\n",
       "        3.43337328e-02,  2.27581412e-02, -1.38721396e-01, -1.92881841e-01,\n",
       "        3.43337328e-02, -1.92881841e-01, -2.26350198e-01,  3.53071136e-03,\n",
       "        1.61912553e-03,  1.34104222e-03,  1.61912553e-03,  5.78069792e-03,\n",
       "       -8.64302231e-03,  1.34104222e-03, -8.64302231e-03, -1.17398221e-02,\n",
       "       -4.27860546e-03, -2.52304609e-02, -1.50812732e-02, -2.52304609e-02,\n",
       "       -9.81413209e-02, -5.96193664e-02, -1.50812732e-02, -5.96193664e-02,\n",
       "       -2.66443396e-02])"
      ]
     },
     "execution_count": 69,
     "metadata": {},
     "output_type": "execute_result"
    }
   ],
   "source": [
    "jacobi(total_list)"
   ]
  },
  {
   "cell_type": "code",
   "execution_count": 21,
   "metadata": {},
   "outputs": [],
   "source": [
    "weight_list = FG_GMM.weights\n",
    "mean_list = []\n",
    "sigma_list = []\n",
    "\n",
    "for i in range(len(FG_GMM.gaussians)):\n",
    "    mean_list.append(FG_GMM.gaussians[i].mean)\n",
    "    sigma_list.append(FG_GMM.gaussians[i].sigma)\n",
    "    \n",
    "mean_list = np.ndarray.flatten(np.array(mean_list))\n",
    "sigma_list = np.ndarray.flatten(np.array(sigma_list))\n",
    "total_list = np.concatenate((weight_list,mean_list,sigma_list))\n",
    "\n",
    "weight_list = np.reshape(total_list[:5],(5))\n",
    "mean_list = np.reshape(total_list[5:20],(5,3))\n",
    "sigma_list = np.reshape(total_list[20:],(5,3,3))"
   ]
  },
  {
   "cell_type": "code",
   "execution_count": 70,
   "metadata": {
    "scrolled": true
   },
   "outputs": [
    {
     "name": "stdout",
     "output_type": "stream",
     "text": [
      "3189575.8576554307\n",
      "2575378.017081299\n",
      "2575378.0203205626\n",
      "2575378.020105066\n",
      "2575378.015035156\n",
      "2575378.0191198513\n",
      "2575378.0225093113\n",
      "2575378.0224988433\n",
      "2575378.0225034505\n",
      "1 번째 이미지 출력했음!\n",
      "2575378.0225031925\n",
      "2575378.0225081365\n",
      "2575378.022497166\n",
      "2575378.022502604\n",
      "2575378.0225047097\n",
      "2575378.022503125\n",
      "2575378.022506168\n",
      "2575378.0224945424\n",
      "2575378.022507144\n",
      "2575378.0225067874\n",
      "2 번째 이미지 출력했음!\n",
      "2575378.0225004475\n",
      "2575378.02250481\n",
      "2575378.0225078086\n",
      "2575378.022505126\n",
      "2575378.0224993993\n",
      "2575378.022505126\n",
      "2575378.022509221\n",
      "2575378.022498746\n",
      "2575378.0224993993\n",
      "2575378.022498746\n",
      "3 번째 이미지 출력했음!\n",
      "2575378.0225137696\n",
      "2575378.0225109295\n",
      "2575378.0224928567\n",
      "2575378.0225070002\n",
      "2575378.0224928567\n",
      "2575378.022528817\n",
      "2575378.0224895873\n",
      "2575378.0225070002\n",
      "2575378.0224895873\n",
      "2575378.0225168364\n",
      "4 번째 이미지 출력했음!\n",
      "2575378.02250495\n",
      "2575378.022502274\n",
      "2575378.022503927\n",
      "2575378.022502274\n",
      "2575378.0225072303\n",
      "2575378.0225019595\n",
      "2575378.022503927\n",
      "2575378.0225019595\n",
      "2575378.0225056526\n",
      "2575378.0225073216\n",
      "5 번째 이미지 출력했음!\n",
      "2575378.02250457\n",
      "2575378.0225013955\n",
      "2575378.02250457\n",
      "2575378.022508386\n",
      "2575378.0224985797\n",
      "2575378.0225013955\n",
      "2575378.0224985797\n",
      "2575378.0225110585\n",
      "2575378.0225045662\n",
      "2575378.022503847\n",
      "6 번째 이미지 출력했음!\n",
      "2575378.0225031218\n",
      "2575378.022503847\n",
      "2575378.022505727\n",
      "2575378.022502309\n",
      "2575378.0225031218\n",
      "2575378.022502309\n",
      "2575378.022505865\n",
      "2575378.0225037066\n",
      "2441615.510763842\n",
      "2441859.0574632743\n",
      "7 번째 이미지 출력했음!\n",
      "2441859.053879259\n",
      "2441859.055998246\n",
      "2441859.0560996537\n",
      "2441859.053440759\n",
      "2441859.055438898\n",
      "2441859.0574689177\n",
      "2441859.0574585195\n",
      "2441859.057462965\n",
      "2441859.057462735\n",
      "2441859.0574677065\n",
      "8 번째 이미지 출력했음!\n",
      "2441859.057456917\n",
      "2441859.057462149\n",
      "2441859.057464303\n",
      "2441859.0574626927\n",
      "2441859.057465834\n",
      "2441859.057454106\n",
      "2441859.0574666867\n",
      "2441859.0574663337\n",
      "2441859.057460059\n",
      "2441859.0574643775\n",
      "9 번째 이미지 출력했음!\n",
      "2441859.0574673624\n",
      "2441859.05746469\n",
      "2441859.0574589795\n",
      "2441859.05746469\n",
      "2441859.057468774\n",
      "2441859.0574583276\n",
      "2441859.0574589795\n",
      "2441859.0574583276\n"
     ]
    },
    {
     "ename": "KeyboardInterrupt",
     "evalue": "",
     "output_type": "error",
     "traceback": [
      "\u001b[0;31m---------------------------------------------------------------------------\u001b[0m",
      "\u001b[0;31mKeyboardInterrupt\u001b[0m                         Traceback (most recent call last)",
      "\u001b[0;32m<ipython-input-70-bcff8ae4cc01>\u001b[0m in \u001b[0;36m<module>\u001b[0;34m\u001b[0m\n\u001b[1;32m      2\u001b[0m \u001b[0mwww\u001b[0m \u001b[0;34m=\u001b[0m \u001b[0;34m[\u001b[0m\u001b[0;34m]\u001b[0m\u001b[0;34m\u001b[0m\u001b[0;34m\u001b[0m\u001b[0m\n\u001b[1;32m      3\u001b[0m \u001b[0mf_comp_map\u001b[0m \u001b[0;34m=\u001b[0m \u001b[0mFG_GMM\u001b[0m\u001b[0;34m.\u001b[0m\u001b[0mget_component\u001b[0m\u001b[0;34m(\u001b[0m\u001b[0mpixels\u001b[0m\u001b[0;34m)\u001b[0m\u001b[0;34m.\u001b[0m\u001b[0mreshape\u001b[0m\u001b[0;34m(\u001b[0m\u001b[0;34m(\u001b[0m\u001b[0mpixels\u001b[0m\u001b[0;34m.\u001b[0m\u001b[0mshape\u001b[0m\u001b[0;34m[\u001b[0m\u001b[0;36m0\u001b[0m\u001b[0;34m]\u001b[0m\u001b[0;34m,\u001b[0m \u001b[0;36m1\u001b[0m\u001b[0;34m)\u001b[0m\u001b[0;34m)\u001b[0m\u001b[0;34m\u001b[0m\u001b[0;34m\u001b[0m\u001b[0m\n\u001b[0;32m----> 4\u001b[0;31m \u001b[0mminimize\u001b[0m\u001b[0;34m(\u001b[0m\u001b[0mfun\u001b[0m \u001b[0;34m=\u001b[0m \u001b[0mdata_term_v1\u001b[0m\u001b[0;34m,\u001b[0m\u001b[0mx0\u001b[0m \u001b[0;34m=\u001b[0m \u001b[0mtotal_list\u001b[0m\u001b[0;34m,\u001b[0m\u001b[0margs\u001b[0m\u001b[0;34m=\u001b[0m\u001b[0;34m(\u001b[0m\u001b[0mimg\u001b[0m\u001b[0;34m,\u001b[0m\u001b[0mFG_GMM\u001b[0m\u001b[0;34m,\u001b[0m\u001b[0ma\u001b[0m\u001b[0;34m,\u001b[0m\u001b[0mwww\u001b[0m\u001b[0;34m)\u001b[0m\u001b[0;34m,\u001b[0m\u001b[0mmethod\u001b[0m\u001b[0;34m=\u001b[0m\u001b[0;34m'BFGS'\u001b[0m\u001b[0;34m,\u001b[0m\u001b[0mjac\u001b[0m\u001b[0;34m=\u001b[0m\u001b[0mcallable\u001b[0m\u001b[0;34m(\u001b[0m\u001b[0mjacobi\u001b[0m\u001b[0;34m(\u001b[0m\u001b[0mtotal_list\u001b[0m\u001b[0;34m)\u001b[0m\u001b[0;34m)\u001b[0m\u001b[0;34m)\u001b[0m\u001b[0;34m\u001b[0m\u001b[0;34m\u001b[0m\u001b[0m\n\u001b[0m",
      "\u001b[0;32m~/.local/lib/python3.6/site-packages/scipy/optimize/_minimize.py\u001b[0m in \u001b[0;36mminimize\u001b[0;34m(fun, x0, args, method, jac, hess, hessp, bounds, constraints, tol, callback, options)\u001b[0m\n\u001b[1;32m    593\u001b[0m         \u001b[0;32mreturn\u001b[0m \u001b[0m_minimize_cg\u001b[0m\u001b[0;34m(\u001b[0m\u001b[0mfun\u001b[0m\u001b[0;34m,\u001b[0m \u001b[0mx0\u001b[0m\u001b[0;34m,\u001b[0m \u001b[0margs\u001b[0m\u001b[0;34m,\u001b[0m \u001b[0mjac\u001b[0m\u001b[0;34m,\u001b[0m \u001b[0mcallback\u001b[0m\u001b[0;34m,\u001b[0m \u001b[0;34m**\u001b[0m\u001b[0moptions\u001b[0m\u001b[0;34m)\u001b[0m\u001b[0;34m\u001b[0m\u001b[0;34m\u001b[0m\u001b[0m\n\u001b[1;32m    594\u001b[0m     \u001b[0;32melif\u001b[0m \u001b[0mmeth\u001b[0m \u001b[0;34m==\u001b[0m \u001b[0;34m'bfgs'\u001b[0m\u001b[0;34m:\u001b[0m\u001b[0;34m\u001b[0m\u001b[0;34m\u001b[0m\u001b[0m\n\u001b[0;32m--> 595\u001b[0;31m         \u001b[0;32mreturn\u001b[0m \u001b[0m_minimize_bfgs\u001b[0m\u001b[0;34m(\u001b[0m\u001b[0mfun\u001b[0m\u001b[0;34m,\u001b[0m \u001b[0mx0\u001b[0m\u001b[0;34m,\u001b[0m \u001b[0margs\u001b[0m\u001b[0;34m,\u001b[0m \u001b[0mjac\u001b[0m\u001b[0;34m,\u001b[0m \u001b[0mcallback\u001b[0m\u001b[0;34m,\u001b[0m \u001b[0;34m**\u001b[0m\u001b[0moptions\u001b[0m\u001b[0;34m)\u001b[0m\u001b[0;34m\u001b[0m\u001b[0;34m\u001b[0m\u001b[0m\n\u001b[0m\u001b[1;32m    596\u001b[0m     \u001b[0;32melif\u001b[0m \u001b[0mmeth\u001b[0m \u001b[0;34m==\u001b[0m \u001b[0;34m'newton-cg'\u001b[0m\u001b[0;34m:\u001b[0m\u001b[0;34m\u001b[0m\u001b[0;34m\u001b[0m\u001b[0m\n\u001b[1;32m    597\u001b[0m         return _minimize_newtoncg(fun, x0, args, jac, hess, hessp, callback,\n",
      "\u001b[0;32m~/.local/lib/python3.6/site-packages/scipy/optimize/optimize.py\u001b[0m in \u001b[0;36m_minimize_bfgs\u001b[0;34m(fun, x0, args, jac, callback, gtol, norm, eps, maxiter, disp, return_all, **unknown_options)\u001b[0m\n\u001b[1;32m    988\u001b[0m             \u001b[0malpha_k\u001b[0m\u001b[0;34m,\u001b[0m \u001b[0mfc\u001b[0m\u001b[0;34m,\u001b[0m \u001b[0mgc\u001b[0m\u001b[0;34m,\u001b[0m \u001b[0mold_fval\u001b[0m\u001b[0;34m,\u001b[0m \u001b[0mold_old_fval\u001b[0m\u001b[0;34m,\u001b[0m \u001b[0mgfkp1\u001b[0m \u001b[0;34m=\u001b[0m\u001b[0;31m \u001b[0m\u001b[0;31m\\\u001b[0m\u001b[0;34m\u001b[0m\u001b[0;34m\u001b[0m\u001b[0m\n\u001b[1;32m    989\u001b[0m                      _line_search_wolfe12(f, myfprime, xk, pk, gfk,\n\u001b[0;32m--> 990\u001b[0;31m                                           old_fval, old_old_fval, amin=1e-100, amax=1e100)\n\u001b[0m\u001b[1;32m    991\u001b[0m         \u001b[0;32mexcept\u001b[0m \u001b[0m_LineSearchError\u001b[0m\u001b[0;34m:\u001b[0m\u001b[0;34m\u001b[0m\u001b[0;34m\u001b[0m\u001b[0m\n\u001b[1;32m    992\u001b[0m             \u001b[0;31m# Line search failed to find a better solution.\u001b[0m\u001b[0;34m\u001b[0m\u001b[0;34m\u001b[0m\u001b[0;34m\u001b[0m\u001b[0m\n",
      "\u001b[0;32m~/.local/lib/python3.6/site-packages/scipy/optimize/optimize.py\u001b[0m in \u001b[0;36m_line_search_wolfe12\u001b[0;34m(f, fprime, xk, pk, gfk, old_fval, old_old_fval, **kwargs)\u001b[0m\n\u001b[1;32m    808\u001b[0m     ret = line_search_wolfe1(f, fprime, xk, pk, gfk,\n\u001b[1;32m    809\u001b[0m                              \u001b[0mold_fval\u001b[0m\u001b[0;34m,\u001b[0m \u001b[0mold_old_fval\u001b[0m\u001b[0;34m,\u001b[0m\u001b[0;34m\u001b[0m\u001b[0;34m\u001b[0m\u001b[0m\n\u001b[0;32m--> 810\u001b[0;31m                              **kwargs)\n\u001b[0m\u001b[1;32m    811\u001b[0m \u001b[0;34m\u001b[0m\u001b[0m\n\u001b[1;32m    812\u001b[0m     \u001b[0;32mif\u001b[0m \u001b[0mret\u001b[0m\u001b[0;34m[\u001b[0m\u001b[0;36m0\u001b[0m\u001b[0;34m]\u001b[0m \u001b[0;32mis\u001b[0m \u001b[0;32mnot\u001b[0m \u001b[0;32mNone\u001b[0m \u001b[0;32mand\u001b[0m \u001b[0mextra_condition\u001b[0m \u001b[0;32mis\u001b[0m \u001b[0;32mnot\u001b[0m \u001b[0;32mNone\u001b[0m\u001b[0;34m:\u001b[0m\u001b[0;34m\u001b[0m\u001b[0;34m\u001b[0m\u001b[0m\n",
      "\u001b[0;32m~/.local/lib/python3.6/site-packages/scipy/optimize/linesearch.py\u001b[0m in \u001b[0;36mline_search_wolfe1\u001b[0;34m(f, fprime, xk, pk, gfk, old_fval, old_old_fval, args, c1, c2, amax, amin, xtol)\u001b[0m\n\u001b[1;32m     99\u001b[0m     stp, fval, old_fval = scalar_search_wolfe1(\n\u001b[1;32m    100\u001b[0m             \u001b[0mphi\u001b[0m\u001b[0;34m,\u001b[0m \u001b[0mderphi\u001b[0m\u001b[0;34m,\u001b[0m \u001b[0mold_fval\u001b[0m\u001b[0;34m,\u001b[0m \u001b[0mold_old_fval\u001b[0m\u001b[0;34m,\u001b[0m \u001b[0mderphi0\u001b[0m\u001b[0;34m,\u001b[0m\u001b[0;34m\u001b[0m\u001b[0;34m\u001b[0m\u001b[0m\n\u001b[0;32m--> 101\u001b[0;31m             c1=c1, c2=c2, amax=amax, amin=amin, xtol=xtol)\n\u001b[0m\u001b[1;32m    102\u001b[0m \u001b[0;34m\u001b[0m\u001b[0m\n\u001b[1;32m    103\u001b[0m     \u001b[0;32mreturn\u001b[0m \u001b[0mstp\u001b[0m\u001b[0;34m,\u001b[0m \u001b[0mfc\u001b[0m\u001b[0;34m[\u001b[0m\u001b[0;36m0\u001b[0m\u001b[0;34m]\u001b[0m\u001b[0;34m,\u001b[0m \u001b[0mgc\u001b[0m\u001b[0;34m[\u001b[0m\u001b[0;36m0\u001b[0m\u001b[0;34m]\u001b[0m\u001b[0;34m,\u001b[0m \u001b[0mfval\u001b[0m\u001b[0;34m,\u001b[0m \u001b[0mold_fval\u001b[0m\u001b[0;34m,\u001b[0m \u001b[0mgval\u001b[0m\u001b[0;34m[\u001b[0m\u001b[0;36m0\u001b[0m\u001b[0;34m]\u001b[0m\u001b[0;34m\u001b[0m\u001b[0;34m\u001b[0m\u001b[0m\n",
      "\u001b[0;32m~/.local/lib/python3.6/site-packages/scipy/optimize/linesearch.py\u001b[0m in \u001b[0;36mscalar_search_wolfe1\u001b[0;34m(phi, derphi, phi0, old_phi0, derphi0, c1, c2, amax, amin, xtol)\u001b[0m\n\u001b[1;32m    173\u001b[0m             \u001b[0malpha1\u001b[0m \u001b[0;34m=\u001b[0m \u001b[0mstp\u001b[0m\u001b[0;34m\u001b[0m\u001b[0;34m\u001b[0m\u001b[0m\n\u001b[1;32m    174\u001b[0m             \u001b[0mphi1\u001b[0m \u001b[0;34m=\u001b[0m \u001b[0mphi\u001b[0m\u001b[0;34m(\u001b[0m\u001b[0mstp\u001b[0m\u001b[0;34m)\u001b[0m\u001b[0;34m\u001b[0m\u001b[0;34m\u001b[0m\u001b[0m\n\u001b[0;32m--> 175\u001b[0;31m             \u001b[0mderphi1\u001b[0m \u001b[0;34m=\u001b[0m \u001b[0mderphi\u001b[0m\u001b[0;34m(\u001b[0m\u001b[0mstp\u001b[0m\u001b[0;34m)\u001b[0m\u001b[0;34m\u001b[0m\u001b[0;34m\u001b[0m\u001b[0m\n\u001b[0m\u001b[1;32m    176\u001b[0m         \u001b[0;32melse\u001b[0m\u001b[0;34m:\u001b[0m\u001b[0;34m\u001b[0m\u001b[0;34m\u001b[0m\u001b[0m\n\u001b[1;32m    177\u001b[0m             \u001b[0;32mbreak\u001b[0m\u001b[0;34m\u001b[0m\u001b[0;34m\u001b[0m\u001b[0m\n",
      "\u001b[0;32m~/.local/lib/python3.6/site-packages/scipy/optimize/linesearch.py\u001b[0m in \u001b[0;36mderphi\u001b[0;34m(s)\u001b[0m\n\u001b[1;32m     88\u001b[0m \u001b[0;34m\u001b[0m\u001b[0m\n\u001b[1;32m     89\u001b[0m     \u001b[0;32mdef\u001b[0m \u001b[0mderphi\u001b[0m\u001b[0;34m(\u001b[0m\u001b[0ms\u001b[0m\u001b[0;34m)\u001b[0m\u001b[0;34m:\u001b[0m\u001b[0;34m\u001b[0m\u001b[0;34m\u001b[0m\u001b[0m\n\u001b[0;32m---> 90\u001b[0;31m         \u001b[0mgval\u001b[0m\u001b[0;34m[\u001b[0m\u001b[0;36m0\u001b[0m\u001b[0;34m]\u001b[0m \u001b[0;34m=\u001b[0m \u001b[0mfprime\u001b[0m\u001b[0;34m(\u001b[0m\u001b[0mxk\u001b[0m \u001b[0;34m+\u001b[0m \u001b[0ms\u001b[0m\u001b[0;34m*\u001b[0m\u001b[0mpk\u001b[0m\u001b[0;34m,\u001b[0m \u001b[0;34m*\u001b[0m\u001b[0mnewargs\u001b[0m\u001b[0;34m)\u001b[0m\u001b[0;34m\u001b[0m\u001b[0;34m\u001b[0m\u001b[0m\n\u001b[0m\u001b[1;32m     91\u001b[0m         \u001b[0;32mif\u001b[0m \u001b[0mgradient\u001b[0m\u001b[0;34m:\u001b[0m\u001b[0;34m\u001b[0m\u001b[0;34m\u001b[0m\u001b[0m\n\u001b[1;32m     92\u001b[0m             \u001b[0mgc\u001b[0m\u001b[0;34m[\u001b[0m\u001b[0;36m0\u001b[0m\u001b[0;34m]\u001b[0m \u001b[0;34m+=\u001b[0m \u001b[0;36m1\u001b[0m\u001b[0;34m\u001b[0m\u001b[0;34m\u001b[0m\u001b[0m\n",
      "\u001b[0;32m~/.local/lib/python3.6/site-packages/scipy/optimize/optimize.py\u001b[0m in \u001b[0;36mfunction_wrapper\u001b[0;34m(*wrapper_args)\u001b[0m\n\u001b[1;32m    298\u001b[0m     \u001b[0;32mdef\u001b[0m \u001b[0mfunction_wrapper\u001b[0m\u001b[0;34m(\u001b[0m\u001b[0;34m*\u001b[0m\u001b[0mwrapper_args\u001b[0m\u001b[0;34m)\u001b[0m\u001b[0;34m:\u001b[0m\u001b[0;34m\u001b[0m\u001b[0;34m\u001b[0m\u001b[0m\n\u001b[1;32m    299\u001b[0m         \u001b[0mncalls\u001b[0m\u001b[0;34m[\u001b[0m\u001b[0;36m0\u001b[0m\u001b[0;34m]\u001b[0m \u001b[0;34m+=\u001b[0m \u001b[0;36m1\u001b[0m\u001b[0;34m\u001b[0m\u001b[0;34m\u001b[0m\u001b[0m\n\u001b[0;32m--> 300\u001b[0;31m         \u001b[0;32mreturn\u001b[0m \u001b[0mfunction\u001b[0m\u001b[0;34m(\u001b[0m\u001b[0;34m*\u001b[0m\u001b[0;34m(\u001b[0m\u001b[0mwrapper_args\u001b[0m \u001b[0;34m+\u001b[0m \u001b[0margs\u001b[0m\u001b[0;34m)\u001b[0m\u001b[0;34m)\u001b[0m\u001b[0;34m\u001b[0m\u001b[0;34m\u001b[0m\u001b[0m\n\u001b[0m\u001b[1;32m    301\u001b[0m \u001b[0;34m\u001b[0m\u001b[0m\n\u001b[1;32m    302\u001b[0m     \u001b[0;32mreturn\u001b[0m \u001b[0mncalls\u001b[0m\u001b[0;34m,\u001b[0m \u001b[0mfunction_wrapper\u001b[0m\u001b[0;34m\u001b[0m\u001b[0;34m\u001b[0m\u001b[0m\n",
      "\u001b[0;32m~/.local/lib/python3.6/site-packages/scipy/optimize/optimize.py\u001b[0m in \u001b[0;36mapprox_fprime\u001b[0;34m(xk, f, epsilon, *args)\u001b[0m\n\u001b[1;32m    728\u001b[0m \u001b[0;34m\u001b[0m\u001b[0m\n\u001b[1;32m    729\u001b[0m     \"\"\"\n\u001b[0;32m--> 730\u001b[0;31m     \u001b[0;32mreturn\u001b[0m \u001b[0m_approx_fprime_helper\u001b[0m\u001b[0;34m(\u001b[0m\u001b[0mxk\u001b[0m\u001b[0;34m,\u001b[0m \u001b[0mf\u001b[0m\u001b[0;34m,\u001b[0m \u001b[0mepsilon\u001b[0m\u001b[0;34m,\u001b[0m \u001b[0margs\u001b[0m\u001b[0;34m=\u001b[0m\u001b[0margs\u001b[0m\u001b[0;34m)\u001b[0m\u001b[0;34m\u001b[0m\u001b[0;34m\u001b[0m\u001b[0m\n\u001b[0m\u001b[1;32m    731\u001b[0m \u001b[0;34m\u001b[0m\u001b[0m\n\u001b[1;32m    732\u001b[0m \u001b[0;34m\u001b[0m\u001b[0m\n",
      "\u001b[0;32m~/.local/lib/python3.6/site-packages/scipy/optimize/optimize.py\u001b[0m in \u001b[0;36m_approx_fprime_helper\u001b[0;34m(xk, f, epsilon, args, f0)\u001b[0m\n\u001b[1;32m    668\u001b[0m         \u001b[0mei\u001b[0m\u001b[0;34m[\u001b[0m\u001b[0mk\u001b[0m\u001b[0;34m]\u001b[0m \u001b[0;34m=\u001b[0m \u001b[0;36m1.0\u001b[0m\u001b[0;34m\u001b[0m\u001b[0;34m\u001b[0m\u001b[0m\n\u001b[1;32m    669\u001b[0m         \u001b[0md\u001b[0m \u001b[0;34m=\u001b[0m \u001b[0mepsilon\u001b[0m \u001b[0;34m*\u001b[0m \u001b[0mei\u001b[0m\u001b[0;34m\u001b[0m\u001b[0;34m\u001b[0m\u001b[0m\n\u001b[0;32m--> 670\u001b[0;31m         \u001b[0mgrad\u001b[0m\u001b[0;34m[\u001b[0m\u001b[0mk\u001b[0m\u001b[0;34m]\u001b[0m \u001b[0;34m=\u001b[0m \u001b[0;34m(\u001b[0m\u001b[0mf\u001b[0m\u001b[0;34m(\u001b[0m\u001b[0;34m*\u001b[0m\u001b[0;34m(\u001b[0m\u001b[0;34m(\u001b[0m\u001b[0mxk\u001b[0m \u001b[0;34m+\u001b[0m \u001b[0md\u001b[0m\u001b[0;34m,\u001b[0m\u001b[0;34m)\u001b[0m \u001b[0;34m+\u001b[0m \u001b[0margs\u001b[0m\u001b[0;34m)\u001b[0m\u001b[0;34m)\u001b[0m \u001b[0;34m-\u001b[0m \u001b[0mf0\u001b[0m\u001b[0;34m)\u001b[0m \u001b[0;34m/\u001b[0m \u001b[0md\u001b[0m\u001b[0;34m[\u001b[0m\u001b[0mk\u001b[0m\u001b[0;34m]\u001b[0m\u001b[0;34m\u001b[0m\u001b[0;34m\u001b[0m\u001b[0m\n\u001b[0m\u001b[1;32m    671\u001b[0m         \u001b[0mei\u001b[0m\u001b[0;34m[\u001b[0m\u001b[0mk\u001b[0m\u001b[0;34m]\u001b[0m \u001b[0;34m=\u001b[0m \u001b[0;36m0.0\u001b[0m\u001b[0;34m\u001b[0m\u001b[0;34m\u001b[0m\u001b[0m\n\u001b[1;32m    672\u001b[0m     \u001b[0;32mreturn\u001b[0m \u001b[0mgrad\u001b[0m\u001b[0;34m\u001b[0m\u001b[0;34m\u001b[0m\u001b[0m\n",
      "\u001b[0;32m~/.local/lib/python3.6/site-packages/scipy/optimize/optimize.py\u001b[0m in \u001b[0;36mfunction_wrapper\u001b[0;34m(*wrapper_args)\u001b[0m\n\u001b[1;32m    298\u001b[0m     \u001b[0;32mdef\u001b[0m \u001b[0mfunction_wrapper\u001b[0m\u001b[0;34m(\u001b[0m\u001b[0;34m*\u001b[0m\u001b[0mwrapper_args\u001b[0m\u001b[0;34m)\u001b[0m\u001b[0;34m:\u001b[0m\u001b[0;34m\u001b[0m\u001b[0;34m\u001b[0m\u001b[0m\n\u001b[1;32m    299\u001b[0m         \u001b[0mncalls\u001b[0m\u001b[0;34m[\u001b[0m\u001b[0;36m0\u001b[0m\u001b[0;34m]\u001b[0m \u001b[0;34m+=\u001b[0m \u001b[0;36m1\u001b[0m\u001b[0;34m\u001b[0m\u001b[0;34m\u001b[0m\u001b[0m\n\u001b[0;32m--> 300\u001b[0;31m         \u001b[0;32mreturn\u001b[0m \u001b[0mfunction\u001b[0m\u001b[0;34m(\u001b[0m\u001b[0;34m*\u001b[0m\u001b[0;34m(\u001b[0m\u001b[0mwrapper_args\u001b[0m \u001b[0;34m+\u001b[0m \u001b[0margs\u001b[0m\u001b[0;34m)\u001b[0m\u001b[0;34m)\u001b[0m\u001b[0;34m\u001b[0m\u001b[0;34m\u001b[0m\u001b[0m\n\u001b[0m\u001b[1;32m    301\u001b[0m \u001b[0;34m\u001b[0m\u001b[0m\n\u001b[1;32m    302\u001b[0m     \u001b[0;32mreturn\u001b[0m \u001b[0mncalls\u001b[0m\u001b[0;34m,\u001b[0m \u001b[0mfunction_wrapper\u001b[0m\u001b[0;34m\u001b[0m\u001b[0;34m\u001b[0m\u001b[0m\n",
      "\u001b[0;32m<ipython-input-67-c043134dfe98>\u001b[0m in \u001b[0;36mdata_term_v1\u001b[0;34m(x0, img, gmm, a, www)\u001b[0m\n\u001b[1;32m     32\u001b[0m     \u001b[0mresidual\u001b[0m \u001b[0;34m=\u001b[0m \u001b[0mpixels\u001b[0m \u001b[0;34m-\u001b[0m \u001b[0mmeans\u001b[0m\u001b[0;34m\u001b[0m\u001b[0;34m\u001b[0m\u001b[0m\n\u001b[1;32m     33\u001b[0m     \u001b[0;32mfor\u001b[0m \u001b[0mi\u001b[0m \u001b[0;32min\u001b[0m \u001b[0mrange\u001b[0m\u001b[0;34m(\u001b[0m\u001b[0mresidual\u001b[0m\u001b[0;34m.\u001b[0m\u001b[0mshape\u001b[0m\u001b[0;34m[\u001b[0m\u001b[0;36m0\u001b[0m\u001b[0;34m]\u001b[0m\u001b[0;34m)\u001b[0m\u001b[0;34m:\u001b[0m\u001b[0;34m\u001b[0m\u001b[0;34m\u001b[0m\u001b[0m\n\u001b[0;32m---> 34\u001b[0;31m         \u001b[0mdistance\u001b[0m \u001b[0;34m=\u001b[0m \u001b[0mscipy\u001b[0m\u001b[0;34m.\u001b[0m\u001b[0mspatial\u001b[0m\u001b[0;34m.\u001b[0m\u001b[0mdistance\u001b[0m\u001b[0;34m.\u001b[0m\u001b[0mmahalanobis\u001b[0m\u001b[0;34m(\u001b[0m\u001b[0mresidual\u001b[0m\u001b[0;34m[\u001b[0m\u001b[0mi\u001b[0m\u001b[0;34m]\u001b[0m\u001b[0;34m,\u001b[0m \u001b[0;34m[\u001b[0m\u001b[0;36m0\u001b[0m\u001b[0;34m,\u001b[0m\u001b[0;36m0\u001b[0m\u001b[0;34m,\u001b[0m\u001b[0;36m0\u001b[0m\u001b[0;34m]\u001b[0m\u001b[0;34m,\u001b[0m \u001b[0mcov\u001b[0m\u001b[0;34m[\u001b[0m\u001b[0mi\u001b[0m\u001b[0;34m]\u001b[0m\u001b[0;34m)\u001b[0m\u001b[0;34m\u001b[0m\u001b[0;34m\u001b[0m\u001b[0m\n\u001b[0m\u001b[1;32m     35\u001b[0m         \u001b[0mdistances\u001b[0m\u001b[0;34m.\u001b[0m\u001b[0mappend\u001b[0m\u001b[0;34m(\u001b[0m\u001b[0mdistance\u001b[0m\u001b[0;34m)\u001b[0m\u001b[0;34m\u001b[0m\u001b[0;34m\u001b[0m\u001b[0m\n\u001b[1;32m     36\u001b[0m \u001b[0;34m\u001b[0m\u001b[0m\n",
      "\u001b[0;32m~/.local/lib/python3.6/site-packages/scipy/spatial/distance.py\u001b[0m in \u001b[0;36mmahalanobis\u001b[0;34m(u, v, VI)\u001b[0m\n\u001b[1;32m   1060\u001b[0m     \"\"\"\n\u001b[1;32m   1061\u001b[0m     \u001b[0mu\u001b[0m \u001b[0;34m=\u001b[0m \u001b[0m_validate_vector\u001b[0m\u001b[0;34m(\u001b[0m\u001b[0mu\u001b[0m\u001b[0;34m)\u001b[0m\u001b[0;34m\u001b[0m\u001b[0;34m\u001b[0m\u001b[0m\n\u001b[0;32m-> 1062\u001b[0;31m     \u001b[0mv\u001b[0m \u001b[0;34m=\u001b[0m \u001b[0m_validate_vector\u001b[0m\u001b[0;34m(\u001b[0m\u001b[0mv\u001b[0m\u001b[0;34m)\u001b[0m\u001b[0;34m\u001b[0m\u001b[0;34m\u001b[0m\u001b[0m\n\u001b[0m\u001b[1;32m   1063\u001b[0m     \u001b[0mVI\u001b[0m \u001b[0;34m=\u001b[0m \u001b[0mnp\u001b[0m\u001b[0;34m.\u001b[0m\u001b[0matleast_2d\u001b[0m\u001b[0;34m(\u001b[0m\u001b[0mVI\u001b[0m\u001b[0;34m)\u001b[0m\u001b[0;34m\u001b[0m\u001b[0;34m\u001b[0m\u001b[0m\n\u001b[1;32m   1064\u001b[0m     \u001b[0mdelta\u001b[0m \u001b[0;34m=\u001b[0m \u001b[0mu\u001b[0m \u001b[0;34m-\u001b[0m \u001b[0mv\u001b[0m\u001b[0;34m\u001b[0m\u001b[0;34m\u001b[0m\u001b[0m\n",
      "\u001b[0;32m~/.local/lib/python3.6/site-packages/scipy/spatial/distance.py\u001b[0m in \u001b[0;36m_validate_vector\u001b[0;34m(u, dtype)\u001b[0m\n\u001b[1;32m    323\u001b[0m \u001b[0;32mdef\u001b[0m \u001b[0m_validate_vector\u001b[0m\u001b[0;34m(\u001b[0m\u001b[0mu\u001b[0m\u001b[0;34m,\u001b[0m \u001b[0mdtype\u001b[0m\u001b[0;34m=\u001b[0m\u001b[0;32mNone\u001b[0m\u001b[0;34m)\u001b[0m\u001b[0;34m:\u001b[0m\u001b[0;34m\u001b[0m\u001b[0;34m\u001b[0m\u001b[0m\n\u001b[1;32m    324\u001b[0m     \u001b[0;31m# XXX Is order='c' really necessary?\u001b[0m\u001b[0;34m\u001b[0m\u001b[0;34m\u001b[0m\u001b[0;34m\u001b[0m\u001b[0m\n\u001b[0;32m--> 325\u001b[0;31m     \u001b[0mu\u001b[0m \u001b[0;34m=\u001b[0m \u001b[0mnp\u001b[0m\u001b[0;34m.\u001b[0m\u001b[0masarray\u001b[0m\u001b[0;34m(\u001b[0m\u001b[0mu\u001b[0m\u001b[0;34m,\u001b[0m \u001b[0mdtype\u001b[0m\u001b[0;34m=\u001b[0m\u001b[0mdtype\u001b[0m\u001b[0;34m,\u001b[0m \u001b[0morder\u001b[0m\u001b[0;34m=\u001b[0m\u001b[0;34m'c'\u001b[0m\u001b[0;34m)\u001b[0m\u001b[0;34m.\u001b[0m\u001b[0msqueeze\u001b[0m\u001b[0;34m(\u001b[0m\u001b[0;34m)\u001b[0m\u001b[0;34m\u001b[0m\u001b[0;34m\u001b[0m\u001b[0m\n\u001b[0m\u001b[1;32m    326\u001b[0m     \u001b[0;31m# Ensure values such as u=1 and u=[1] still return 1-D arrays.\u001b[0m\u001b[0;34m\u001b[0m\u001b[0;34m\u001b[0m\u001b[0;34m\u001b[0m\u001b[0m\n\u001b[1;32m    327\u001b[0m     \u001b[0mu\u001b[0m \u001b[0;34m=\u001b[0m \u001b[0mnp\u001b[0m\u001b[0;34m.\u001b[0m\u001b[0matleast_1d\u001b[0m\u001b[0;34m(\u001b[0m\u001b[0mu\u001b[0m\u001b[0;34m)\u001b[0m\u001b[0;34m\u001b[0m\u001b[0;34m\u001b[0m\u001b[0m\n",
      "\u001b[0;32m~/.local/lib/python3.6/site-packages/numpy/core/numeric.py\u001b[0m in \u001b[0;36masarray\u001b[0;34m(a, dtype, order)\u001b[0m\n\u001b[1;32m    536\u001b[0m \u001b[0;34m\u001b[0m\u001b[0m\n\u001b[1;32m    537\u001b[0m     \"\"\"\n\u001b[0;32m--> 538\u001b[0;31m     \u001b[0;32mreturn\u001b[0m \u001b[0marray\u001b[0m\u001b[0;34m(\u001b[0m\u001b[0ma\u001b[0m\u001b[0;34m,\u001b[0m \u001b[0mdtype\u001b[0m\u001b[0;34m,\u001b[0m \u001b[0mcopy\u001b[0m\u001b[0;34m=\u001b[0m\u001b[0;32mFalse\u001b[0m\u001b[0;34m,\u001b[0m \u001b[0morder\u001b[0m\u001b[0;34m=\u001b[0m\u001b[0morder\u001b[0m\u001b[0;34m)\u001b[0m\u001b[0;34m\u001b[0m\u001b[0;34m\u001b[0m\u001b[0m\n\u001b[0m\u001b[1;32m    539\u001b[0m \u001b[0;34m\u001b[0m\u001b[0m\n\u001b[1;32m    540\u001b[0m \u001b[0;34m\u001b[0m\u001b[0m\n",
      "\u001b[0;31mKeyboardInterrupt\u001b[0m: "
     ]
    }
   ],
   "source": [
    "a = []\n",
    "www = []\n",
    "f_comp_map = FG_GMM.get_component(pixels).reshape((pixels.shape[0], 1))\n",
    "minimize(fun = data_term_v1,x0 = total_list,args=(img,FG_GMM,a,www),method='BFGS',jac=callable(jacobi(total_list)))"
   ]
  },
  {
   "cell_type": "code",
   "execution_count": 31,
   "metadata": {},
   "outputs": [
    {
     "data": {
      "text/plain": [
       "153"
      ]
     },
     "execution_count": 31,
     "metadata": {},
     "output_type": "execute_result"
    }
   ],
   "source": [
    "len(www)"
   ]
  },
  {
   "cell_type": "code",
   "execution_count": 71,
   "metadata": {},
   "outputs": [
    {
     "data": {
      "image/png": "[encoded data removed]",
      "text/plain": [
       "<Figure size 1080x360 with 1 Axes>"
      ]
     },
     "metadata": {
      "needs_background": "light"
     },
     "output_type": "display_data"
    },
    {
     "name": "stdout",
     "output_type": "stream",
     "text": [
      "1.6263754136023811\n"
     ]
    }
   ],
   "source": [
    "w1 = []\n",
    "w2 = []\n",
    "w3 = []\n",
    "w4 = []\n",
    "w5 = []\n",
    "count = len(www)\n",
    "for i in range(count):\n",
    "    w1.append(www[i][0])\n",
    "    w2.append(www[i][1])\n",
    "    w3.append(www[i][2])\n",
    "    w4.append(www[i][3])\n",
    "    w5.append(www[i][4])\n",
    "    \n",
    "    \n",
    "t = np.arange(0, count, 1)\n",
    "plt.rcParams[\"figure.figsize\"] = (15,5)\n",
    "plt.title(\"weight plot\")\n",
    "plt.xlabel('Iteration')\n",
    "plt.ylabel('value')\n",
    "plt.plot(t, w1, 'r', t, w2, 'b', t, w3, 'g', t, w4, 'c',t, w5, 'm')\n",
    "plt.show()\n",
    "print(w1[count-1] + w2[count-1] + w3[count-1] + w4[count-1] + w5[count-1])"
   ]
  },
  {
   "cell_type": "code",
   "execution_count": 72,
   "metadata": {},
   "outputs": [
    {
     "data": {
      "image/png": "[encoded data removed]",
      "text/plain": [
       "<Figure size 1080x360 with 1 Axes>"
      ]
     },
     "metadata": {
      "needs_background": "light"
     },
     "output_type": "display_data"
    },
    {
     "name": "stdout",
     "output_type": "stream",
     "text": [
      "572.0691238430637\n"
     ]
    }
   ],
   "source": [
    "mu1 = []\n",
    "mu2 = []\n",
    "mu3 = []\n",
    "mu4 = []\n",
    "mu5 = []\n",
    "count = len(www)\n",
    "for i in range(count):\n",
    "    sum_mu = np.reshape(www[i][5:20],(5,3))\n",
    "    \n",
    "    mu1.append(sum_mu[0][0])\n",
    "    mu2.append(sum_mu[1][0])\n",
    "    mu3.append(sum_mu[2][0])\n",
    "    mu4.append(sum_mu[3][0])\n",
    "    mu5.append(sum_mu[4][0])\n",
    "    \n",
    "t = np.arange(0, count, 1)\n",
    "plt.rcParams[\"figure.figsize\"] = (15,5)\n",
    "plt.title(\"mu plot(Not changed.)\")\n",
    "plt.xlabel('Iteration')\n",
    "plt.ylabel('value')\n",
    "plt.plot(t, mu1, 'r', t, mu2, 'b', t, mu3, 'g', t, mu4, 'c',t, mu5, 'm')\n",
    "plt.show()\n",
    "print(mu1[count-1] + mu2[count-1] + mu3[count-1] + mu4[count-1] + mu5[count-1])"
   ]
  },
  {
   "cell_type": "code",
   "execution_count": 73,
   "metadata": {},
   "outputs": [
    {
     "data": {
      "image/png": "[encoded data removed]",
      "text/plain": [
       "<Figure size 1080x360 with 1 Axes>"
      ]
     },
     "metadata": {
      "needs_background": "light"
     },
     "output_type": "display_data"
    },
    {
     "name": "stdout",
     "output_type": "stream",
     "text": [
      "1252.4623430330253\n"
     ]
    }
   ],
   "source": [
    "sig1 = []\n",
    "sig2 = []\n",
    "sig3 = []\n",
    "sig4 = []\n",
    "sig5 = []\n",
    "count = len(www)\n",
    "for i in range(count):\n",
    "    sum_sig = np.reshape(www[i][20:65],(5,3,3))\n",
    "    \n",
    "    sig1.append(sum_sig[0][0][0])\n",
    "    sig2.append(sum_sig[1][0][0])\n",
    "    sig3.append(sum_sig[2][0][0])\n",
    "    sig4.append(sum_sig[3][0][0])\n",
    "    sig5.append(sum_sig[4][0][0])\n",
    "    \n",
    "t = np.arange(0, count, 1)\n",
    "plt.rcParams[\"figure.figsize\"] = (15,5)\n",
    "plt.title(\"sig plot(Not changed.)\")\n",
    "plt.xlabel('Iteration')\n",
    "plt.ylabel('value')\n",
    "plt.plot(t, sig1, 'r', t, sig2, 'b', t, sig3, 'g', t, sig4, 'c',t, sig5, 'm')\n",
    "plt.show()\n",
    "print(sig1[count-1] + sig2[count-1] + sig3[count-1] + sig4[count-1] + sig5[count-1])"
   ]
  },
  {
   "cell_type": "code",
   "execution_count": null,
   "metadata": {},
   "outputs": [],
   "source": []
  },
  {
   "cell_type": "code",
   "execution_count": 16,
   "metadata": {
    "scrolled": true
   },
   "outputs": [
    {
     "name": "stdout",
     "output_type": "stream",
     "text": [
      "[216.66753638 227.03887554 243.63019285]\n",
      "[216.44204439 229.0680946  240.76978529]\n",
      "2541420.331766584\n"
     ]
    },
    {
     "data": {
      "text/plain": [
       "2541420.331766584"
      ]
     },
     "execution_count": 16,
     "metadata": {},
     "output_type": "execute_result"
    }
   ],
   "source": [
    "U = data_term_v1(total_list,img,FG_GMM)\n",
    "U.sum()"
   ]
  },
  {
   "cell_type": "code",
   "execution_count": null,
   "metadata": {},
   "outputs": [],
   "source": [
    "def compute_beta(img):\n",
    "    beta = 0\n",
    "    img = np.array(img,dtype = np.float32)\n",
    "    \n",
    "    e_diff = img - np.roll(img, 1, axis=0)\n",
    "    temp = np.sum(np.multiply(vert_diff, vert_diff), axis=2)\n",
    "    beta = np.sum(temp[1:,:])\n",
    "\n",
    "    s_diff = img - np.roll(img, 1, axis=1)\n",
    "    temp = np.sum(np.multiply(horiz_diff, horiz_diff), axis=2)\n",
    "    beta += np.sum(temp[:,1:])\n",
    "    \n",
    "    se_diff = img - np.roll(np.roll(img, 1, axis=0),1,axis = 1)\n",
    "    temp = np.sum(np.multiply(se_diff, se_diff), axis=2)\n",
    "    beta += np.sum(temp[1:,1:])\n",
    "    \n",
    "    sw_diff = img - np.roll(np.roll(img, 1, axis=0),-1,axis = 1)\n",
    "    temp = np.sum(np.multiply(sw_diff, sw_diff), axis=2)\n",
    "    beta += np.sum(temp[1:,:img.shape[-1]-1])\n",
    "    \n",
    "    num_pixel = img.shape[0] * img.shape[1]\n",
    "    \n",
    "    beta = 1.0/(2*(beta/num_pixel))\n",
    "\n",
    "    return beta"
   ]
  },
  {
   "cell_type": "code",
   "execution_count": null,
   "metadata": {},
   "outputs": [],
   "source": [
    "e_diff = img - np.roll(img, 1, axis=0)\n",
    "s_diff = img - np.roll(img, 1, axis=1)\n",
    "se_diff = img - np.roll(np.roll(img, 1, axis=0),1,axis = 1)\n",
    "sw_diff = img - np.roll(np.roll(img, 1, axis=0),-1,axis = 1)\n",
    "\n",
    "show(np.multiply(e_diff, e_diff) + np.multiply(s_diff, s_diff) + np.multiply(se_diff, se_diff) + np.multiply(sw_diff, sw_diff))"
   ]
  },
  {
   "cell_type": "code",
   "execution_count": null,
   "metadata": {
    "scrolled": true
   },
   "outputs": [],
   "source": [
    "compute_beta(img)"
   ]
  },
  {
   "cell_type": "code",
   "execution_count": null,
   "metadata": {},
   "outputs": [],
   "source": [
    "def smoothness_term(img,alpha):\n",
    "    img = np.array(img,dtype = np.float32)\n",
    "    \n",
    "    diff = 0\n",
    "    beta = compute_beta(img)\n",
    "    \n",
    "    for h in range(img.shape[0]):\n",
    "        for w in range(img.shape[1]):\n",
    "            if h-1 >= 0 and w-1 >= 0:\n",
    "                if alpha[h,w] != alpha[h-1,w-1]:\n",
    "                    eucl = scipy.spatial.distance.euclidean(img[h,w],img[h-1,w-1])\n",
    "                    diff += np.exp(eucl * (-beta))\n",
    "            if h-1 >= 0:\n",
    "                if alpha[h,w] != alpha[h-1,w]:\n",
    "                    eucl = scipy.spatial.distance.euclidean(img[h,w],img[h-1,w])\n",
    "                    diff += np.exp(eucl * (-beta)) \n",
    "            if h-1 >= 0 and w+1<img.shape[1]:\n",
    "                if alpha[h,w] != alpha[h-1,w+1]:\n",
    "                    eucl = scipy.spatial.distance.euclidean(img[h,w],img[h-1,w+1])\n",
    "                    diff += np.exp(eucl * (-beta))\n",
    "            if w-1 >= 0:\n",
    "                if alpha[h,w] != alpha[h,w-1]:\n",
    "                    eucl = scipy.spatial.distance.euclidean(img[h,w],img[h,w-1])\n",
    "                    diff += np.exp(eucl * (-beta))\n",
    "            if w+1<img.shape[1]:\n",
    "                if alpha[h,w] != alpha[h,w+1]:\n",
    "                    eucl = scipy.spatial.distance.euclidean(img[h,w],img[h,w+1])\n",
    "                    diff += np.exp(eucl * (-beta)) \n",
    "            if h+1<img.shape[0] and w-1 >= 0:\n",
    "                if alpha[h,w] != alpha[h+1,w-1]:\n",
    "                    eucl = scipy.spatial.distance.euclidean(img[h,w],img[h+1,w-1])\n",
    "                    diff += np.exp(eucl * (-beta)) \n",
    "            if h+1<img.shape[0]:\n",
    "                if alpha[h,w] != alpha[h+1,w]:\n",
    "                    eucl = scipy.spatial.distance.euclidean(img[h,w],img[h+1,w])\n",
    "                    diff += np.exp(eucl * (-beta))   \n",
    "            if h+1<img.shape[0] and w+1<img.shape[1]:        \n",
    "                if alpha[h,w] != alpha[h+1,w+1]:\n",
    "                    eucl = scipy.spatial.distance.euclidean(img[h,w],img[h+1,w+1])\n",
    "                    diff += np.exp(eucl * (-beta))\n",
    "\n",
    "    return 50 * diff"
   ]
  },
  {
   "cell_type": "code",
   "execution_count": null,
   "metadata": {
    "scrolled": true
   },
   "outputs": [],
   "source": [
    "smoothness_term(img,alpha)"
   ]
  },
  {
   "cell_type": "code",
   "execution_count": null,
   "metadata": {},
   "outputs": [],
   "source": [
    "def gibbs(img,alpha,fg_gmm,bg_gmm):\n",
    "    return data_term(img,fg_gmm) + data_term(img,bg_gmm) + smoothness_term(img,alpha)"
   ]
  },
  {
   "cell_type": "code",
   "execution_count": null,
   "metadata": {},
   "outputs": [],
   "source": [
    "gibbs1 = gibbs(img,alpha,FG_GMM,BG_GMM)\n",
    "gibbs1"
   ]
  },
  {
   "cell_type": "code",
   "execution_count": null,
   "metadata": {},
   "outputs": [],
   "source": [
    "alpha2 = alpha.copy()"
   ]
  }
 ],
 "metadata": {
  "kernelspec": {
   "display_name": "Python 3",
   "language": "python",
   "name": "python3"
  },
  "language_info": {
   "codemirror_mode": {
    "name": "ipython",
    "version": 3
   },
   "file_extension": ".py",
   "mimetype": "text/x-python",
   "name": "python",
   "nbconvert_exporter": "python",
   "pygments_lexer": "ipython3",
   "version": "3.6.7"
  }
 },
 "nbformat": 4,
 "nbformat_minor": 2
}
