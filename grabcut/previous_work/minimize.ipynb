{
 "cells": [
  {
   "cell_type": "code",
   "execution_count": 8,
   "metadata": {},
   "outputs": [],
   "source": [
    "import numpy as np\n",
    "import matplotlib.pyplot as plt\n",
    "import cv2\n",
    "from sklearn.cluster import KMeans\n",
    "import scipy\n",
    "from scipy.optimize import minimize\n",
    "import networkx as nx"
   ]
  },
  {
   "cell_type": "code",
   "execution_count": 9,
   "metadata": {},
   "outputs": [],
   "source": [
    "def show(img):\n",
    "    cv2.imshow(\"title\",img)\n",
    "    cv2.waitKey(0)\n",
    "    cv2.destroyAllWindows()"
   ]
  },
  {
   "cell_type": "code",
   "execution_count": 10,
   "metadata": {},
   "outputs": [],
   "source": [
    "class Gaussian:\n",
    "    def __init__(self, mean=np.zeros((3,1)), sigma=np.eye(3)):\n",
    "        self.mean = np.array(mean)\n",
    "        self.sigma = np.array(sigma)\n",
    "\n",
    "    def compute_probability(self, x):\n",
    "        return scipy.stats.multivariate_normal.pdf(np.array(x),mean=self.mean,cov=self.sigma)\n",
    "\n",
    "    def update_parameters(self, data):\n",
    "        self.mean = np.mean(data, axis=0)\n",
    "        self.sigma = np.cov(data, rowvar=0)\n",
    "        \n",
    "    def set_parameter(self,mean,sigma):\n",
    "        self.mean = np.array(mean)\n",
    "        self.sigma = np.array(sigma)"
   ]
  },
  {
   "cell_type": "code",
   "execution_count": 11,
   "metadata": {},
   "outputs": [],
   "source": [
    "class GMM:\n",
    "    def __init__(self, K):\n",
    "        self.K = K\n",
    "        self.gaussians = [Gaussian() for _ in range(self.K)]\n",
    "        self.weights = np.array([1.0/K]*K)\n",
    "\n",
    "    def initialize_gmm(self, X):\n",
    "        clusterer = KMeans(n_clusters=self.K, max_iter=10, random_state=None)\n",
    "        clusters = clusterer.fit_predict(X)\n",
    "\n",
    "        num_pixels = float(X.shape[0])\n",
    "        \n",
    "        for i, gaussian in enumerate(self.gaussians):\n",
    "            gaussian.update_parameters(X[clusters==i])\n",
    "            self.weights[i] = np.sum(clusters==i)/num_pixels\n",
    "            \n",
    "        return clusters\n",
    "\n",
    "    def get_component(self, x):\n",
    "        components = np.zeros((x.shape[0], len(self.gaussians)))\n",
    "\n",
    "        for i,g in enumerate(self.gaussians):\n",
    "            components[:, i] = self.weights[i]*g.compute_probability(x)\n",
    "\n",
    "        return np.argmax(components, axis=1)\n",
    "\n",
    "    def compute_probability(self, x):\n",
    "        return np.dot(self.weights, [g.compute_probability(x) for g in self.gaussians])\n",
    "    \n",
    "    def update_gmm(self, X, means, sigmas):\n",
    "        num_pixels = X.shape[0]\n",
    "        \n",
    "        for i,gaussian in enumerate(self.gaussians):\n",
    "            gaussian.set_parameter(means[i],sigmas[i])\n",
    "            \n",
    "        temp1 = np.zeros((num_pixels,5))\n",
    "        temp2 = np.zeros((num_pixels))\n",
    "        temp_weight = np.zeros(5)\n",
    "        for i in range(5):\n",
    "            temp1[:,i] = FG_GMM.gaussians[i].compute_probability(X)\n",
    "        for i in range(num_pixels):\n",
    "            temp2[i] = np.argmax(temp1[i])\n",
    "        for i in range(5):\n",
    "            temp_weight[i] = np.sum(temp2==i) / num_pixels\n",
    "\n",
    "        self.weights = temp_weight"
   ]
  },
  {
   "cell_type": "code",
   "execution_count": 12,
   "metadata": {},
   "outputs": [],
   "source": [
    "img = cv2.imread(\"image1.jpg\")\n",
    "\n",
    "xmin, ymin, xmax, ymax = 130,40,500,440\n",
    "height, width, _ = img.shape\n",
    "alpha = np.zeros((height, width), dtype=np.int8)\n",
    "\n",
    "for h in range(height):\n",
    "    for w in range(width):\n",
    "        if (w >= xmin) and (w <= xmax) and (h >= ymin) and (h <= ymax):\n",
    "            alpha[h,w] = 1"
   ]
  },
  {
   "cell_type": "code",
   "execution_count": 13,
   "metadata": {},
   "outputs": [],
   "source": [
    "img12312 = cv2.imread(\"image1.jpg\",0)\n",
    "mask = np.full_like(img12312,1.0,dtype=np.float32)\n",
    "mask[ymin:ymax,xmin:xmax] = 0\n",
    "\n",
    "show(mask)"
   ]
  },
  {
   "cell_type": "code",
   "execution_count": 14,
   "metadata": {},
   "outputs": [],
   "source": [
    "fore_ground = img[alpha == 1]\n",
    "back_ground = img[alpha == 0]\n",
    "\n",
    "FG_GMM = GMM(5)\n",
    "BG_GMM = GMM(5)"
   ]
  },
  {
   "cell_type": "code",
   "execution_count": 15,
   "metadata": {},
   "outputs": [],
   "source": [
    "FG_cluster = FG_GMM.initialize_gmm(fore_ground)\n",
    "BG_cluster = BG_GMM.initialize_gmm(back_ground)"
   ]
  },
  {
   "cell_type": "code",
   "execution_count": 16,
   "metadata": {},
   "outputs": [],
   "source": [
    "pixels = img.reshape((img.shape[0]*img.shape[1], img.shape[2]))"
   ]
  },
  {
   "cell_type": "code",
   "execution_count": 17,
   "metadata": {},
   "outputs": [],
   "source": [
    "f_component_map = (FG_GMM.get_component(pixels).reshape((img.shape[0],img.shape[1])) ) *0.25\n",
    "b_component_map = (BG_GMM.get_component(pixels).reshape((img.shape[0],img.shape[1])) ) *0.25"
   ]
  },
  {
   "cell_type": "code",
   "execution_count": 18,
   "metadata": {},
   "outputs": [],
   "source": [
    "h1, w1 = f_component_map.shape[:2]\n",
    "h2, w2 = b_component_map.shape[:2]\n",
    "vis = np.zeros((max(h1, h2), w1+w2), np.float32)\n",
    "vis[:h1, :w1] = f_component_map\n",
    "vis[:h2, w1:w1+w2] = b_component_map\n",
    "vis = cv2.cvtColor(vis, cv2.COLOR_GRAY2BGR)\n",
    "\n",
    "show(vis)"
   ]
  },
  {
   "cell_type": "code",
   "execution_count": 19,
   "metadata": {},
   "outputs": [],
   "source": [
    "k = np.ones((img.shape[0],img.shape[1]), dtype=np.float32)*-1\n",
    "k[alpha==1] = f_component_map[alpha==1]\n",
    "k[alpha==0] = b_component_map[alpha==0]\n",
    "show(k)"
   ]
  },
  {
   "cell_type": "code",
   "execution_count": 16,
   "metadata": {
    "scrolled": true
   },
   "outputs": [
    {
     "name": "stdout",
     "output_type": "stream",
     "text": [
      "      fun: 4.35845650134609e-29\n",
      " hess_inv: array([[0.93103448, 0.17241379],\n",
      "       [0.17241379, 0.56896552]])\n",
      "      jac: array([1.24344979e-14, 4.44088348e-15])\n",
      "  message: 'Optimization terminated successfully.'\n",
      "     nfev: 3\n",
      "      nit: 2\n",
      "     njev: 3\n",
      "   status: 0\n",
      "  success: True\n",
      "        x: array([1. , 2.5])\n"
     ]
    }
   ],
   "source": [
    "import numpy as np\n",
    "from scipy.optimize import minimize\n",
    "from numdifftools import Jacobian, Hessian\n",
    "\n",
    "def fun(x, a):\n",
    "    return (x[0] - 1) **2 + (x[1] - a) **2\n",
    "\n",
    "def fun_der(x, a):\n",
    "    return Jacobian(lambda x: fun(x, a))(x).ravel()\n",
    "\n",
    "x0 = np.array([2, 0]) # initial guess\n",
    "a = 2.5\n",
    "\n",
    "res = minimize(fun, x0, args=(a,), method='BFGS', jac=fun_der)\n",
    "print(res)"
   ]
  }
 ],
 "metadata": {
  "kernelspec": {
   "display_name": "Python 3",
   "language": "python",
   "name": "python3"
  },
  "language_info": {
   "codemirror_mode": {
    "name": "ipython",
    "version": 3
   },
   "file_extension": ".py",
   "mimetype": "text/x-python",
   "name": "python",
   "nbconvert_exporter": "python",
   "pygments_lexer": "ipython3",
   "version": "3.6.7"
  }
 },
 "nbformat": 4,
 "nbformat_minor": 2
}
