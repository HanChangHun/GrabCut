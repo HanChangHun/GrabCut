{
 "cells": [
  {
   "cell_type": "code",
   "execution_count": 23,
   "metadata": {},
   "outputs": [],
   "source": [
    "import numpy as np\n",
    "import matplotlib.pyplot as plt\n",
    "import cv2\n",
    "import pymaxflow\n",
    "import os,sys\n",
    "from scipy.spatial.distance import mahalanobis, euclidean\n",
    "\n",
    "from GMM import GMM"
   ]
  },
  {
   "cell_type": "markdown",
   "metadata": {},
   "source": [
    "## 데이터 확인 및 GMM Initializing"
   ]
  },
  {
   "cell_type": "code",
   "execution_count": 24,
   "metadata": {},
   "outputs": [],
   "source": [
    "def show(img):\n",
    "    cv2.imshow(\"title\",img)\n",
    "    cv2.waitKey(0)\n",
    "    cv2.destroyAllWindows()"
   ]
  },
  {
   "cell_type": "code",
   "execution_count": 25,
   "metadata": {},
   "outputs": [],
   "source": [
    "def show_two_image(img1,img2):\n",
    "    h1, w1 = img1.shape[:2]\n",
    "    h2, w2 = img2.shape[:2]\n",
    "    vis = np.zeros((max(h1, h2), w1+w2,3), np.uint8)\n",
    "    vis[:h1, :w1,:] = img1\n",
    "    vis[:h2, w1:w1+w2,:] = img2\n",
    "\n",
    "    show(vis)"
   ]
  },
  {
   "cell_type": "code",
   "execution_count": 26,
   "metadata": {},
   "outputs": [],
   "source": [
    "DATA_DIR = \"images\"\n",
    "RESULT_DIR = \"result\"\n",
    "IMAGE_NAME = \"bird\" #바꿔야 하는 거!\n",
    "RESULT_DIR = RESULT_DIR + \"_\" + IMAGE_NAME\n",
    "IMAGE_DIR = os.path.join(DATA_DIR,(IMAGE_NAME+\".jpg\")) #바꿔야 하는 거! 2 (파일 형식!)"
   ]
  },
  {
   "cell_type": "code",
   "execution_count": 27,
   "metadata": {},
   "outputs": [],
   "source": [
    "img = cv2.imread(IMAGE_DIR)\n",
    "# img = cv2.resize(img,None,fx = 0.4,fy = 0.4) #for cat\n",
    "show(img)"
   ]
  },
  {
   "cell_type": "code",
   "execution_count": 32,
   "metadata": {},
   "outputs": [],
   "source": [
    "img = cv2.imread(IMAGE_DIR)\n",
    "# img = cv2.resize(img,None,fx = 0.4,fy = 0.4)\n",
    "pixels = img.reshape((img.shape[0]*img.shape[1], img.shape[2])) #for cat\n",
    "\n",
    "xmin, ymin, xmax, ymax = 290,50,970,800\n",
    "height, width, _ = img.shape\n",
    "alpha = np.zeros((height, width), dtype=np.int8)\n",
    "\n",
    "for h in range(height):\n",
    "    for w in range(width):\n",
    "        if (w >= xmin) and (w <= xmax) and (h >= ymin) and (h <= ymax):\n",
    "            alpha[h,w] = 1"
   ]
  },
  {
   "cell_type": "code",
   "execution_count": 33,
   "metadata": {
    "scrolled": true
   },
   "outputs": [
    {
     "data": {
      "text/plain": [
       "True"
      ]
     },
     "execution_count": 33,
     "metadata": {},
     "output_type": "execute_result"
    }
   ],
   "source": [
    "mask_alpha = np.zeros((alpha.shape[0],alpha.shape[1],3),dtype = np.uint8)\n",
    "mask_alpha[:,:,0] = alpha\n",
    "mask_alpha[:,:,1] = alpha\n",
    "mask_alpha[:,:,2] = alpha\n",
    "\n",
    "show_two_image(img,(img * mask_alpha))\n",
    "RESULT_IMAGE_DIR = os.path.join(RESULT_DIR,(\"Initial_mask.jpg\"))\n",
    "cv2.imwrite(RESULT_IMAGE_DIR,(img * mask_alpha))"
   ]
  },
  {
   "cell_type": "code",
   "execution_count": 34,
   "metadata": {},
   "outputs": [],
   "source": [
    "fore_ground = img[alpha == 1]\n",
    "back_ground = img[alpha == 0]\n",
    "\n",
    "FG_GMM = GMM(5)\n",
    "BG_GMM = GMM(5)\n",
    "\n",
    "FG_GMM.initialize_gmm(fore_ground)\n",
    "BG_GMM.initialize_gmm(back_ground)\n",
    "\n",
    "FG_comp = FG_GMM.get_component(pixels).reshape((img.shape[0],img.shape[1]))\n",
    "BG_comp = BG_GMM.get_component(pixels).reshape((img.shape[0],img.shape[1]))\n",
    "\n",
    "fG_map = (FG_comp) *0.25\n",
    "bG_map = (BG_comp) *0.25"
   ]
  },
  {
   "cell_type": "code",
   "execution_count": 35,
   "metadata": {},
   "outputs": [],
   "source": [
    "h1, w1 = fG_map.shape[:2]\n",
    "h2, w2 = bG_map.shape[:2]\n",
    "vis = np.zeros((max(h1, h2), w1+w2), np.float32)\n",
    "vis[:h1, :w1] = fG_map\n",
    "vis[:h2, w1:w1+w2] = bG_map\n",
    "vis = cv2.cvtColor(vis, cv2.COLOR_GRAY2BGR)\n",
    "\n",
    "show(vis)"
   ]
  },
  {
   "cell_type": "code",
   "execution_count": 36,
   "metadata": {},
   "outputs": [],
   "source": [
    "k = np.ones((img.shape[0],img.shape[1]), dtype=np.float32)*-1\n",
    "k[alpha==1] = FG_comp[alpha==1]\n",
    "k[alpha==0] = BG_comp[alpha==0]\n",
    "show(k)"
   ]
  },
  {
   "cell_type": "markdown",
   "metadata": {},
   "source": [
    "## 픽셀 별 Energy 계산"
   ]
  },
  {
   "cell_type": "code",
   "execution_count": 37,
   "metadata": {},
   "outputs": [],
   "source": [
    "def data_term(k, gmm, pixels):    \n",
    "    pi_base = gmm.weights\n",
    "    pi = pi_base[k].reshape(pixels.shape[0])\n",
    "    \n",
    "    dets_base = np.array([np.linalg.det(gmm.gaussians[i].sigma) for i in range(5)])\n",
    "    dets = dets_base[k].reshape(pixels.shape[0])\n",
    "\n",
    "    means_base = np.array([gmm.gaussians[i].mean for i in range(5)])\n",
    "    means = means_base[k]\n",
    "\n",
    "    inv_cov_base = np.array([np.linalg.inv(gmm.gaussians[i].sigma) for i in range(5)])\n",
    "    inv_cov = inv_cov_base[k]\n",
    "\n",
    "    distances = []\n",
    "    residual = pixels - means\n",
    "    for i in range(residual.shape[0]):\n",
    "        distance = mahalanobis(residual[i], [0,0,0], inv_cov[i])\n",
    "        distances.append(distance)\n",
    "    \n",
    "    return -np.log(pi + 1e-7) + 0.5 * np.log(dets + 1e-7) + 0.5 * np.array(distances)"
   ]
  },
  {
   "cell_type": "code",
   "execution_count": 38,
   "metadata": {},
   "outputs": [],
   "source": [
    "def compute_beta(img):\n",
    "    beta = 0\n",
    "    img = np.array(img,dtype = np.float32)\n",
    "    \n",
    "    e_diff = img - np.roll(img, 1, axis=0)\n",
    "    temp = np.sum(np.multiply(e_diff, e_diff), axis=2)\n",
    "    beta = np.sum(temp[1:,:])\n",
    "\n",
    "    s_diff = img - np.roll(img, 1, axis=1)\n",
    "    temp = np.sum(np.multiply(s_diff, s_diff), axis=2)\n",
    "    beta += np.sum(temp[:,1:])\n",
    "    \n",
    "    se_diff = img - np.roll(np.roll(img, 1, axis=0),1,axis = 1)\n",
    "    temp = np.sum(np.multiply(se_diff, se_diff), axis=2)\n",
    "    beta += np.sum(temp[1:,1:])\n",
    "    \n",
    "    sw_diff = img - np.roll(np.roll(img, 1, axis=0),-1,axis = 1)\n",
    "    temp = np.sum(np.multiply(sw_diff, sw_diff), axis=2)\n",
    "    beta += np.sum(temp[1:,:img.shape[-1]-1])\n",
    "    \n",
    "    num_pixel = img.shape[0] * img.shape[1] - 3 * (img.shape[0] + img.shape[1])\n",
    "    \n",
    "    beta = 1.0/(2*(beta/num_pixel))\n",
    "\n",
    "    return beta"
   ]
  },
  {
   "cell_type": "code",
   "execution_count": 39,
   "metadata": {},
   "outputs": [],
   "source": [
    "def smoothness_term(img):\n",
    "    beta = compute_beta(img)\n",
    "    energies = []\n",
    "    \n",
    "    n = img - np.roll(img, 1, axis=0) \n",
    "    s = img - np.roll(img, -1, axis=0) \n",
    "    e = img - np.roll(img, 1, axis=1) \n",
    "    w = img - np.roll(img, -1, axis=1) \n",
    "    nw = img - np.roll(np.roll(img, 1, axis=0), 1, axis=1) \n",
    "    ne = img - np.roll(np.roll(img, 1, axis=0), -1, axis=1) \n",
    "    se = img - np.roll(np.roll(img, -1, axis=0), -1, axis=1) \n",
    "    sw = img - np.roll(np.roll(img, -1, axis=0), 1, axis=1) \n",
    "\n",
    "    energies.append(np.exp(-1 * beta * np.sum(np.multiply(n, n), axis=2)))\n",
    "    energies.append(np.exp(-1 * beta * np.sum(np.multiply(s, s), axis=2)))\n",
    "    energies.append(np.exp(-1 * beta * np.sum(np.multiply(e, e), axis=2)))\n",
    "    energies.append(np.exp(-1 * beta * np.sum(np.multiply(w, w), axis=2)))\n",
    "    energies.append(np.exp(-1 * beta * np.sum(np.multiply(nw, nw), axis=2)))\n",
    "    energies.append(np.exp(-1 * beta * np.sum(np.multiply(ne, ne), axis=2)))\n",
    "    energies.append(np.exp(-1 * beta * np.sum(np.multiply(se, se), axis=2)))\n",
    "    energies.append(np.exp(-1 * beta * np.sum(np.multiply(sw, sw), axis=2)))\n",
    "    \n",
    "    return energies"
   ]
  },
  {
   "cell_type": "code",
   "execution_count": 40,
   "metadata": {},
   "outputs": [],
   "source": [
    "FG_assignments = -1*np.ones(k.shape)\n",
    "FG_assignments[alpha==1] = k[alpha==1]\n",
    "\n",
    "BG_assignments = -1*np.ones(k.shape)\n",
    "BG_assignments[alpha==0] = k[alpha==0]\n",
    "\n",
    "FG_GMM.update_components(img, FG_assignments)\n",
    "BG_GMM.update_components(img, BG_assignments)"
   ]
  },
  {
   "cell_type": "markdown",
   "metadata": {},
   "source": [
    "## 그래프 그리기"
   ]
  },
  {
   "cell_type": "code",
   "execution_count": 41,
   "metadata": {},
   "outputs": [],
   "source": [
    "def create_graph(img):\n",
    "    num_neighbors = 8\n",
    "\n",
    "    num_nodes = img.shape[0]*img.shape[1] + 2\n",
    "    num_edges = img.shape[0]*img.shape[1]*num_neighbors\n",
    "\n",
    "    g = pymaxflow.PyGraph(num_nodes, num_edges)\n",
    "\n",
    "    g.add_node(num_nodes-2)\n",
    "\n",
    "    return g"
   ]
  },
  {
   "cell_type": "code",
   "execution_count": 42,
   "metadata": {},
   "outputs": [],
   "source": [
    "graph = create_graph(img)\n",
    "\n",
    "FG_component = FG_GMM.get_component(pixels)\n",
    "BG_component = BG_GMM.get_component(pixels)\n",
    "\n",
    "FG_data_term = data_term(FG_component, FG_GMM, pixels)\n",
    "BG_data_term = data_term(BG_component, BG_GMM, pixels)"
   ]
  },
  {
   "cell_type": "code",
   "execution_count": 43,
   "metadata": {},
   "outputs": [],
   "source": [
    "for h in range(img.shape[0]):\n",
    "    for w in range(img.shape[1]):\n",
    "        index = h*img.shape[1] + w\n",
    "        if w < xmin or w > xmax or h < ymin or h > ymax:\n",
    "            w1 = 1e9\n",
    "            w2 = 0\n",
    "        else : \n",
    "            w1 = FG_data_term[index]\n",
    "            w2 = BG_data_term[index]\n",
    "\n",
    "        graph.add_tweights(index, w1, w2)"
   ]
  },
  {
   "cell_type": "code",
   "execution_count": 44,
   "metadata": {},
   "outputs": [],
   "source": [
    "gamma = 50\n",
    "\n",
    "smoothness_energies = smoothness_term(img)\n",
    "\n",
    "NEIGHBORHOOD = [(-1,0),(+1,0),(0,-1),(0,+1),(-1,-1),(-1,+1),(+1,+1),(+1,-1)]\n",
    "src_h = np.tile(np.arange(img.shape[0]).reshape(img.shape[0], 1), img.shape[1])\n",
    "src_w = np.tile(np.arange(img.shape[1]), (img.shape[0], 1))\n",
    "src_h = src_h.astype(np.int32)\n",
    "src_w = src_w.astype(np.int32)\n",
    "\n",
    "for i, energy in enumerate(smoothness_energies):\n",
    "    if i in [1,3,6,7]:\n",
    "        continue\n",
    "    height_offset, width_offset = NEIGHBORHOOD[i]\n",
    "\n",
    "    dst_h = src_h + height_offset\n",
    "    dst_w = src_w + width_offset\n",
    "\n",
    "    idx = np.logical_and(np.logical_and(dst_h >= 0, dst_h < img.shape[0]),\n",
    "                        np.logical_and(dst_w >= 0, dst_w < img.shape[1]))\n",
    "\n",
    "    src_idx = src_h * img.shape[1] + src_w\n",
    "    dst_idx = dst_h * img.shape[1] + dst_w\n",
    "\n",
    "    src_idx = src_idx[idx].flatten()\n",
    "    dst_idx = dst_idx[idx].flatten()\n",
    "    weights = energy.astype(np.float32)[idx].flatten()\n",
    "    weights = gamma*weights\n",
    "\n",
    "    graph.add_edge_vectorized(src_idx, dst_idx, weights, weights)"
   ]
  },
  {
   "cell_type": "code",
   "execution_count": 45,
   "metadata": {},
   "outputs": [],
   "source": [
    "graph.maxflow()\n",
    "partition = graph.what_segment_vectorized()"
   ]
  },
  {
   "cell_type": "code",
   "execution_count": 46,
   "metadata": {},
   "outputs": [],
   "source": [
    "partition = partition.reshape(alpha.shape)\n",
    "alpha = partition"
   ]
  },
  {
   "cell_type": "code",
   "execution_count": 47,
   "metadata": {},
   "outputs": [
    {
     "data": {
      "text/plain": [
       "True"
      ]
     },
     "execution_count": 47,
     "metadata": {},
     "output_type": "execute_result"
    }
   ],
   "source": [
    "mask_alpha = np.zeros((alpha.shape[0],alpha.shape[1],3),dtype = np.uint8)\n",
    "mask_alpha[:,:,0] = alpha\n",
    "mask_alpha[:,:,1] = alpha\n",
    "mask_alpha[:,:,2] = alpha\n",
    "\n",
    "show_two_image(img,(img * mask_alpha)*1.0)\n",
    "RESULT_IMAGE_DIR = os.path.join(RESULT_DIR,(\"result0.jpg\"))\n",
    "cv2.imwrite(RESULT_IMAGE_DIR,(img * mask_alpha))"
   ]
  },
  {
   "cell_type": "code",
   "execution_count": 48,
   "metadata": {},
   "outputs": [
    {
     "name": "stdout",
     "output_type": "stream",
     "text": [
      "the 1 image writed.\n",
      "the 2 image writed.\n",
      "the 3 image writed.\n",
      "the 4 image writed.\n",
      "the 5 image writed.\n",
      "the 6 image writed.\n",
      "the 7 image writed.\n",
      "the 8 image writed.\n",
      "the 9 image writed.\n",
      "the 10 image writed.\n",
      "the 11 image writed.\n",
      "the 12 image writed.\n",
      "the 13 image writed.\n",
      "the 14 image writed.\n",
      "the 15 image writed.\n",
      "the 16 image writed.\n",
      "the 17 image writed.\n",
      "the 18 image writed.\n",
      "the 19 image writed.\n",
      "the 20 image writed.\n"
     ]
    }
   ],
   "source": [
    "for iteration in range(20):\n",
    "    FG_comp = FG_GMM.get_component(pixels).reshape((img.shape[0],img.shape[1]))\n",
    "    BG_comp = BG_GMM.get_component(pixels).reshape((img.shape[0],img.shape[1]))\n",
    "\n",
    "    k[alpha==1] = FG_comp[alpha==1]\n",
    "    k[alpha==0] = BG_comp[alpha==0]\n",
    "\n",
    "    FG_assignments = -1*np.ones(k.shape)\n",
    "    FG_assignments[alpha==1] = k[alpha==1]\n",
    "\n",
    "    BG_assignments = -1*np.ones(k.shape)\n",
    "    BG_assignments[alpha==0] = k[alpha==0]\n",
    "\n",
    "    FG_GMM.update_components(img, FG_assignments)\n",
    "    BG_GMM.update_components(img, BG_assignments)\n",
    "\n",
    "    graph = create_graph(img)\n",
    "\n",
    "    FG_component = FG_GMM.get_component(pixels)\n",
    "    BG_component = BG_GMM.get_component(pixels)\n",
    "\n",
    "    FG_data_term = data_term(FG_component, FG_GMM, pixels)\n",
    "    BG_data_term = data_term(BG_component, BG_GMM, pixels)\n",
    "\n",
    "    for h in range(img.shape[0]):\n",
    "        for w in range(img.shape[1]):\n",
    "            index = h*img.shape[1] + w\n",
    "            if w < xmin or w > xmax or h < ymin or h > ymax:\n",
    "                w1 = 1e9\n",
    "                w2 = 0\n",
    "            else : \n",
    "                w1 = FG_data_term[index]\n",
    "                w2 = BG_data_term[index]\n",
    "\n",
    "            graph.add_tweights(index, w1, w2)\n",
    "\n",
    "    smoothness_energies = smoothness_term(img)\n",
    "\n",
    "    NEIGHBORHOOD = [(-1,0),(+1,0),(0,-1),(0,+1),(-1,-1),(-1,+1),(+1,+1),(+1,-1)]\n",
    "    src_h = np.tile(np.arange(img.shape[0]).reshape(img.shape[0], 1), img.shape[1])\n",
    "    src_w = np.tile(np.arange(img.shape[1]), (img.shape[0], 1))\n",
    "    src_h = src_h.astype(np.int32)\n",
    "    src_w = src_w.astype(np.int32)\n",
    "\n",
    "    for i, energy in enumerate(smoothness_energies):\n",
    "        if i in [1,3,6,7]:\n",
    "            continue\n",
    "        height_offset, width_offset = NEIGHBORHOOD[i]\n",
    "\n",
    "        dst_h = src_h + height_offset\n",
    "        dst_w = src_w + width_offset\n",
    "\n",
    "        idx = np.logical_and(np.logical_and(dst_h >= 0, dst_h < img.shape[0]),\n",
    "                            np.logical_and(dst_w >= 0, dst_w < img.shape[1]))\n",
    "\n",
    "        src_idx = src_h * img.shape[1] + src_w\n",
    "        dst_idx = dst_h * img.shape[1] + dst_w\n",
    "\n",
    "        src_idx = src_idx[idx].flatten()\n",
    "        dst_idx = dst_idx[idx].flatten()\n",
    "        weights = energy.astype(np.float32)[idx].flatten()\n",
    "        weights = gamma*weights\n",
    "\n",
    "        graph.add_edge_vectorized(src_idx, dst_idx, weights, weights)\n",
    "\n",
    "\n",
    "    graph.maxflow()\n",
    "\n",
    "    partition = graph.what_segment_vectorized()\n",
    "    partition = partition.reshape(alpha.shape)\n",
    "    alpha = partition\n",
    "\n",
    "    mask_alpha = np.zeros((alpha.shape[0],alpha.shape[1],3),dtype = np.uint8)\n",
    "    mask_alpha[:,:,0] = alpha\n",
    "    mask_alpha[:,:,1] = alpha\n",
    "    mask_alpha[:,:,2] = alpha\n",
    "\n",
    "    RESULT_IMAGE_DIR = os.path.join(RESULT_DIR,(\"result{}.jpg\").format(iteration+1))\n",
    "    cv2.imwrite(RESULT_IMAGE_DIR,(img * mask_alpha))\n",
    "    print(\"the {} image writed.\".format(iteration+1))"
   ]
  },
  {
   "cell_type": "code",
   "execution_count": null,
   "metadata": {},
   "outputs": [],
   "source": []
  }
 ],
 "metadata": {
  "kernelspec": {
   "display_name": "Python 3",
   "language": "python",
   "name": "python3"
  },
  "language_info": {
   "codemirror_mode": {
    "name": "ipython",
    "version": 3
   },
   "file_extension": ".py",
   "mimetype": "text/x-python",
   "name": "python",
   "nbconvert_exporter": "python",
   "pygments_lexer": "ipython3",
   "version": "3.6.7"
  }
 },
 "nbformat": 4,
 "nbformat_minor": 2
}
